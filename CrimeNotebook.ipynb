{
 "cells": [
  {
   "cell_type": "markdown",
   "metadata": {},
   "source": [
    "# Data Cleaning"
   ]
  },
  {
   "cell_type": "code",
   "execution_count": 1,
   "metadata": {
    "collapsed": true
   },
   "outputs": [],
   "source": [
    "import pandas as pd\n",
    "import numpy as np\n",
    "import matplotlib.pylab as plt\n",
    "%matplotlib inline"
   ]
  },
  {
   "cell_type": "markdown",
   "metadata": {},
   "source": [
    "### Dataset Description\n",
    "There are 22 total attributes in the original dataset. Note that each record is of a single crime irregardless of when it was committed so multiple rows can refer to the same incident.    \n",
    "\n",
    "* **ID** unique integer identifier for the crime record.\n",
    "* **Case Number** The Chicago Police Department RD Number (Records Division Number), which is unique to each incident.\n",
    "* **Date** Date when incident occurred\n",
    "* **Block** The partially redacted address where the incident occurred, placing it on the same block as the actual address.\n",
    "* **IUCR** The Illinois Unifrom Crime Reporting code. This is directly linked to the Primary Type and Description.\n",
    "* **Primary Type** The primary description of the IUCR code.\n",
    "* **Description** The secondary description of the IUCR code, a subcategory of the primary description.\n",
    "* **Location Description** Description of the location where the incident occurred.\n",
    "* **Arrest** Indicates whether an arrest was made.\n",
    "* **Domestic** Indicates whether the incident was domestic-related as defined by the Illinois Domestic Violence Act.\n",
    "* **Beat** Indicates the beat where the incident occurred. A beat is the smallest police geographic area – each beat has a dedicated police beat car. Three to five beats make up a police sector, and three sectors make up a police district. The Chicago Police Department has 22 police districts.\n",
    "* **District** Indicates the police district where the incident occurred.\n",
    "* **Ward** The ward (City Council district) where the incident occurred.\n",
    "* **Community Area** Indicates the community area where the incident occurred. Chicago has 77 community areas.\n",
    "* **FBI Code** Indicates the crime classification as outlined in the FBI's National Incident-Based Reporting System (NIBRS)\n",
    "* **X Coordinate** The x coordinate of the location where the incident occurred in State Plane Illinois East NAD 1983 projection. This location is shifted from the actual location for partial redaction but falls on the same block.\n",
    "* **Y Coordinate** The y coordinate of the location where the incident occurred. Partially redacted\n",
    "* **Year** Year when incident occurred\n",
    "* **Updated On** Date and time the record was last updated.\n",
    "* **Latitude** The latitude of the location where the incident occurred. Partially redacted\n",
    "* **Longitude** The longitude of the location where the incident occurred. Partially redacted\n",
    "* **Location**  The combination of latitude and longitude\n",
    "\n",
    "*Descriptions of attributes taken from \n",
    "[data.cityofchicago.org](https://data.cityofchicago.org/Public-Safety/Crimes-2001-to-present-Dashboard/5cd6-ry5g)*"
   ]
  },
  {
   "cell_type": "markdown",
   "metadata": {},
   "source": [
    "### Parsing the CSV\n",
    "**Datetimes:** The *Date* and *Updated On* attributes both follow the same U.S. \"month/day/year hour:minute:second period\" date and time format. These columns will be converted into datetime objects during intial parsing.\n",
    "\n",
    "**Redundancy:** The *IUCR, Year, District, and Location* attributes all repeat information available in the other columns and therefore are ignored during intial parsing.\n",
    "\n",
    "**Locations:** In order to protect the individuals involved the location data of incidents are partial redacted and are only accurate to the block, therefore the  *Block, X Coordinate, Y Coordinate* columns are ignored during intial parsing. *Latitude and Longitude* are chosen over *Block* because the numerical values are easier to parse than arbitrary address names."
   ]
  },
  {
   "cell_type": "code",
   "execution_count": 2,
   "metadata": {},
   "outputs": [],
   "source": [
    "dateparse = lambda x: pd.datetime.strptime(x, \"%m/%d/%Y %H:%M:%S %p\")\n",
    "\n",
    "types = {\"ID\":\"uint64\", \"Case Number\":\"object\", \"Primary Type\":\"category\",\"Description\":\"category\",\n",
    "         \"Location Description\":\"category\", \"Arrest\":\"bool\", \"Domestic\":\"bool\", \"Beat\":\"category\", \"Ward\":\"category\",\n",
    "         \"Community Area\":\"category\", \"FBI Code\":\"category\", \"Latitude\":\"float\", \"Longitude\":\"float\"}\n",
    "\n",
    "columns = list(types.keys())+[\"Date\", \"Updated On\"]\n",
    "\n",
    "dfCrime = pd.read_csv(\n",
    "    \"Samples/RandomCrime.csv\",\n",
    "    parse_dates=[\"Date\", \"Updated On\"],\n",
    "    date_parser=dateparse,\n",
    "    usecols = columns,\n",
    "    dtype = types\n",
    ")"
   ]
  },
  {
   "cell_type": "markdown",
   "metadata": {},
   "source": [
    "### Null Values"
   ]
  },
  {
   "cell_type": "markdown",
   "metadata": {},
   "source": [
    "### Type Checking"
   ]
  }
 ],
 "metadata": {
  "kernelspec": {
   "display_name": "Python 3",
   "language": "python",
   "name": "python3"
  },
  "language_info": {
   "codemirror_mode": {
    "name": "ipython",
    "version": 3
   },
   "file_extension": ".py",
   "mimetype": "text/x-python",
   "name": "python",
   "nbconvert_exporter": "python",
   "pygments_lexer": "ipython3",
   "version": "3.6.3"
  }
 },
 "nbformat": 4,
 "nbformat_minor": 2
}
